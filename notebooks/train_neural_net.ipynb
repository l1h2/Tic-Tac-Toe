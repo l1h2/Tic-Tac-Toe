{
 "cells": [
  {
   "cell_type": "markdown",
   "metadata": {},
   "source": [
    "# Tic Tac Toe\n",
    "\n",
    "## Project imports"
   ]
  },
  {
   "cell_type": "code",
   "execution_count": 1,
   "metadata": {},
   "outputs": [],
   "source": [
    "import ast\n",
    "import os\n",
    "import sys\n",
    "\n",
    "sys.path.append(os.path.abspath(\"..\"))\n",
    "\n",
    "import pandas as pd"
   ]
  },
  {
   "cell_type": "markdown",
   "metadata": {},
   "source": [
    "## Classification training\n",
    "\n",
    "### Loading playable game states"
   ]
  },
  {
   "cell_type": "code",
   "execution_count": 2,
   "metadata": {},
   "outputs": [
    {
     "name": "stdout",
     "output_type": "stream",
     "text": [
      "                            state  last_player  target\n",
      "0  [0, -1, 1, 1, 0, -1, -1, 1, 1]            1       0\n",
      "1   [1, 0, 1, 0, 0, 0, -1, 0, -1]           -1       1\n",
      "2  [0, 0, 0, -1, 1, 1, -1, 1, -1]           -1       1\n",
      "3   [1, 0, 0, -1, -1, 1, 0, 0, 0]           -1       2\n",
      "4  [0, 1, 1, -1, -1, 0, 1, -1, 0]           -1       0\n"
     ]
    }
   ],
   "source": [
    "game_file = \"game_state_targets\"\n",
    "path = \"../data/\"\n",
    "ext = \".csv\"\n",
    "headers = [\"state\", \"last_player\", \"target\"]\n",
    "\n",
    "games = pd.read_csv(path + game_file + ext)\n",
    "games[headers[0]] = games[headers[0]].apply(ast.literal_eval)\n",
    "print(games.head())"
   ]
  },
  {
   "cell_type": "markdown",
   "metadata": {},
   "source": [
    "### Training\n",
    "\n",
    "- Setup"
   ]
  },
  {
   "cell_type": "code",
   "execution_count": 3,
   "metadata": {},
   "outputs": [],
   "source": [
    "import torch\n",
    "from torch.utils.data import DataLoader, TensorDataset\n",
    "\n",
    "from models.neural_net import TicTacToeNet\n",
    "\n",
    "net = TicTacToeNet()\n",
    "num_epochs = 1000\n",
    "batch_size = 128\n",
    "\n",
    "states = torch.tensor(games[headers[0]].to_list(), dtype=torch.float32)\n",
    "targets = torch.tensor(games[headers[2]].values, dtype=torch.long)\n",
    "\n",
    "dataset = TensorDataset(states, targets)\n",
    "loader = DataLoader(dataset, batch_size=batch_size)"
   ]
  },
  {
   "cell_type": "markdown",
   "metadata": {},
   "source": [
    "- Training"
   ]
  },
  {
   "cell_type": "code",
   "execution_count": 4,
   "metadata": {},
   "outputs": [
    {
     "name": "stdout",
     "output_type": "stream",
     "text": [
      "Epoch 1/1000, Loss: 1.6103990111086104\n",
      "Epoch 11/1000, Loss: 0.17999862786382437\n",
      "Epoch 21/1000, Loss: 0.12810233923503095\n",
      "Epoch 31/1000, Loss: 0.08019487083786064\n",
      "Epoch 41/1000, Loss: 0.08386505995359686\n",
      "Epoch 51/1000, Loss: 0.016642381729778007\n",
      "Epoch 61/1000, Loss: 0.0804798848176789\n",
      "Epoch 71/1000, Loss: 0.03485391217853046\n",
      "Epoch 81/1000, Loss: 0.011457432443017347\n",
      "Epoch 91/1000, Loss: 0.19819427048787475\n",
      "Epoch 101/1000, Loss: 0.0036446717034171647\n",
      "Epoch 111/1000, Loss: 0.00021357179199791668\n",
      "Epoch 121/1000, Loss: 0.00014502310449415745\n",
      "Epoch 131/1000, Loss: 0.00010977215491594607\n",
      "Epoch 141/1000, Loss: 8.713114511414865e-05\n",
      "Epoch 151/1000, Loss: 7.063055681063209e-05\n",
      "Epoch 161/1000, Loss: 5.812944980713534e-05\n",
      "Epoch 171/1000, Loss: 4.832661280652751e-05\n",
      "Epoch 181/1000, Loss: 4.037030506588558e-05\n",
      "Epoch 191/1000, Loss: 3.3859609080385176e-05\n",
      "Epoch 201/1000, Loss: 2.8483333436055444e-05\n",
      "Epoch 211/1000, Loss: 2.3984913334452864e-05\n",
      "Epoch 221/1000, Loss: 2.0252043975056546e-05\n",
      "Epoch 231/1000, Loss: 1.7055540388987032e-05\n",
      "Epoch 241/1000, Loss: 1.4363992417227362e-05\n",
      "Epoch 251/1000, Loss: 1.2102316705724863e-05\n",
      "Epoch 261/1000, Loss: 1.0192403749442747e-05\n",
      "Epoch 271/1000, Loss: 8.578900614490218e-06\n",
      "Epoch 281/1000, Loss: 7.219469847225608e-06\n",
      "Epoch 291/1000, Loss: 6.0723492257213566e-06\n",
      "Epoch 301/1000, Loss: 5.090358517713235e-06\n",
      "Epoch 311/1000, Loss: 4.264437040922707e-06\n",
      "Early stopping at epoch 312\n",
      "Training complete: Epochs: 312, Loss: 4.187261234041746e-06\n"
     ]
    }
   ],
   "source": [
    "result_model = net.train_model(loader, num_epochs)\n",
    "torch.save(result_model, path + \"models/mlp_model.pth\")"
   ]
  },
  {
   "cell_type": "markdown",
   "metadata": {},
   "source": [
    "### Testing"
   ]
  },
  {
   "cell_type": "code",
   "execution_count": 5,
   "metadata": {},
   "outputs": [
    {
     "name": "stdout",
     "output_type": "stream",
     "text": [
      "Accuracy: 100.00%\n"
     ]
    }
   ],
   "source": [
    "predictions = net.test_model(loader)"
   ]
  },
  {
   "cell_type": "markdown",
   "metadata": {},
   "source": [
    "### Saving results to csv"
   ]
  },
  {
   "cell_type": "code",
   "execution_count": 6,
   "metadata": {},
   "outputs": [],
   "source": [
    "games[\"mlp_results\"] = predictions\n",
    "games.to_csv(path + \"neural_net_results\" + ext, index=False)"
   ]
  }
 ],
 "metadata": {
  "kernelspec": {
   "display_name": ".venv",
   "language": "python",
   "name": "python3"
  },
  "language_info": {
   "codemirror_mode": {
    "name": "ipython",
    "version": 3
   },
   "file_extension": ".py",
   "mimetype": "text/x-python",
   "name": "python",
   "nbconvert_exporter": "python",
   "pygments_lexer": "ipython3",
   "version": "3.11.7"
  }
 },
 "nbformat": 4,
 "nbformat_minor": 2
}
