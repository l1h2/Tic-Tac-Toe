{
 "cells": [
  {
   "cell_type": "markdown",
   "metadata": {},
   "source": [
    "# Tic Tac Toe\n",
    "\n",
    "## Project imports"
   ]
  },
  {
   "cell_type": "code",
   "execution_count": 7,
   "metadata": {},
   "outputs": [],
   "source": [
    "import csv\n",
    "import os\n",
    "import sys\n",
    "\n",
    "sys.path.append(os.path.abspath(\"..\"))\n",
    "\n",
    "from game import Board\n",
    "from utils import Players"
   ]
  },
  {
   "cell_type": "markdown",
   "metadata": {},
   "source": [
    "## Game states\n",
    "\n",
    "### Getting all game states"
   ]
  },
  {
   "cell_type": "code",
   "execution_count": 8,
   "metadata": {},
   "outputs": [
    {
     "name": "stdout",
     "output_type": "stream",
     "text": [
      "Normal states: 4520\n",
      "Winning states: 958\n",
      "Total states: 5478 / 5478\n"
     ]
    }
   ],
   "source": [
    "max_states = 5478 # 5478 is the number of legal board states in tic-tac-toe\n",
    "all_states = set()\n",
    "normal_states = set()\n",
    "winning_states = set()\n",
    "board = Board()\n",
    "\n",
    "\n",
    "def save_state(board: Board, depth=0, player=Players.X) -> None:\n",
    "    next_player = Players.X if player == Players.O else Players.O\n",
    "    # next player is saved because it's the same as the last as there are only two players\n",
    "    all_states.add((tuple(board.flat_board), next_player.value))\n",
    "    if board.winner is not None:\n",
    "        winning_states.add((tuple(board.flat_board), next_player.value))\n",
    "        return\n",
    "    \n",
    "    normal_states.add((tuple(board.flat_board), next_player.value))\n",
    "    for i in range(3):\n",
    "        for j in range(3):\n",
    "            if not board.play_move(i, j, player):\n",
    "                continue\n",
    "\n",
    "            save_state(board, depth + 1, next_player)\n",
    "            board.clear_move(i, j)\n",
    "\n",
    "\n",
    "save_state(board)\n",
    "print(f\"Normal states: {len(normal_states)}\")\n",
    "print(f\"Winning states: {len(winning_states)}\")\n",
    "print(f\"Total states: {len(all_states)} / {max_states}\")\n",
    "\n",
    "assert len(normal_states) + len(winning_states) == len(all_states)\n",
    "assert len(all_states) == max_states"
   ]
  },
  {
   "cell_type": "markdown",
   "metadata": {},
   "source": [
    "### Saving states to csv file"
   ]
  },
  {
   "cell_type": "code",
   "execution_count": 9,
   "metadata": {},
   "outputs": [],
   "source": [
    "all_states_file = \"all_states\"\n",
    "normal_states_file = \"normal_states\"\n",
    "winning_states_file = \"winning_states\"\n",
    "path = \"../data/\"\n",
    "ext = \".csv\"\n",
    "\n",
    "header = [\"state\", \"last_player\"]\n",
    "states = {\n",
    "    all_states_file: all_states,\n",
    "    normal_states_file: normal_states,\n",
    "    winning_states_file: winning_states\n",
    "}\n",
    "\n",
    "for file, states in states.items():\n",
    "    with open(path + file + ext, \"w\", newline=\"\") as f:\n",
    "        writer = csv.writer(f)\n",
    "        writer.writerow(header)\n",
    "        for state, player in states:\n",
    "            writer.writerow([str(state), player])"
   ]
  }
 ],
 "metadata": {
  "kernelspec": {
   "display_name": ".venv",
   "language": "python",
   "name": "python3"
  },
  "language_info": {
   "codemirror_mode": {
    "name": "ipython",
    "version": 3
   },
   "file_extension": ".py",
   "mimetype": "text/x-python",
   "name": "python",
   "nbconvert_exporter": "python",
   "pygments_lexer": "ipython3",
   "version": "3.11.6"
  }
 },
 "nbformat": 4,
 "nbformat_minor": 2
}
