{
 "cells": [
  {
   "cell_type": "markdown",
   "metadata": {},
   "source": [
    "# Tic Tac Toe\n",
    "\n",
    "## Project imports"
   ]
  },
  {
   "cell_type": "code",
   "execution_count": 15,
   "metadata": {},
   "outputs": [],
   "source": [
    "import ast\n",
    "import os\n",
    "import sys\n",
    "\n",
    "sys.path.append(os.path.abspath(\"..\"))\n",
    "\n",
    "import pandas as pd\n",
    "\n",
    "from game import Board\n",
    "from models import MODELS, Models\n",
    "from utils import Players"
   ]
  },
  {
   "cell_type": "markdown",
   "metadata": {},
   "source": [
    "## Best moves\n",
    "\n",
    "### Loading playable game states"
   ]
  },
  {
   "cell_type": "code",
   "execution_count": 16,
   "metadata": {},
   "outputs": [
    {
     "name": "stdout",
     "output_type": "stream",
     "text": [
      "                            state  last_player\n",
      "0  [0, -1, 1, 1, 0, -1, -1, 1, 1]            1\n",
      "1   [1, 0, 1, 0, 0, 0, -1, 0, -1]           -1\n",
      "2  [0, 0, 0, -1, 1, 1, -1, 1, -1]           -1\n",
      "3   [1, 0, 0, -1, -1, 1, 0, 0, 0]           -1\n",
      "4  [0, 1, 1, -1, -1, 0, 1, -1, 0]           -1\n"
     ]
    }
   ],
   "source": [
    "states_file = \"normal_states\"\n",
    "path = \"../data/\"\n",
    "ext = \".csv\"\n",
    "headers = [\"state\", \"last_player\"]\n",
    "\n",
    "states = pd.read_csv(path + states_file + ext)\n",
    "states[headers[0]] = states[headers[0]].apply(ast.literal_eval).apply(list)\n",
    "print(states.head())"
   ]
  },
  {
   "cell_type": "markdown",
   "metadata": {},
   "source": [
    "### Finding best moves"
   ]
  },
  {
   "cell_type": "code",
   "execution_count": 17,
   "metadata": {},
   "outputs": [
    {
     "name": "stdout",
     "output_type": "stream",
     "text": [
      "                            state  last_player  target\n",
      "0  [0, -1, 1, 1, 0, -1, -1, 1, 1]            1       0\n",
      "1   [1, 0, 1, 0, 0, 0, -1, 0, -1]           -1       1\n",
      "2  [0, 0, 0, -1, 1, 1, -1, 1, -1]           -1       1\n",
      "3   [1, 0, 0, -1, -1, 1, 0, 0, 0]           -1       2\n",
      "4  [0, 1, 1, -1, -1, 0, 1, -1, 0]           -1       0\n"
     ]
    }
   ],
   "source": [
    "minimax = MODELS[Models.IMPOSSIBLE]\n",
    "targets = []\n",
    "\n",
    "for _, row in states.iterrows():\n",
    "    board = Board(row[headers[0]])\n",
    "    player = Players.X if row[headers[1]] == Players.O.value else Players.O\n",
    "    row, col = minimax(board, player)\n",
    "    best_move = row * 3 + col\n",
    "    targets.append(best_move)\n",
    "\n",
    "states[\"target\"] = targets\n",
    "print(states.head())"
   ]
  },
  {
   "cell_type": "markdown",
   "metadata": {},
   "source": [
    "### Saving to new csv file"
   ]
  },
  {
   "cell_type": "code",
   "execution_count": 18,
   "metadata": {},
   "outputs": [],
   "source": [
    "targets_file = \"game_state_targets\"\n",
    "states.to_csv(path + targets_file + ext, index=False)"
   ]
  }
 ],
 "metadata": {
  "kernelspec": {
   "display_name": ".venv",
   "language": "python",
   "name": "python3"
  },
  "language_info": {
   "codemirror_mode": {
    "name": "ipython",
    "version": 3
   },
   "file_extension": ".py",
   "mimetype": "text/x-python",
   "name": "python",
   "nbconvert_exporter": "python",
   "pygments_lexer": "ipython3",
   "version": "3.11.6"
  }
 },
 "nbformat": 4,
 "nbformat_minor": 2
}
