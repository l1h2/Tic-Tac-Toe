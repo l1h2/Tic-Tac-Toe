{
 "cells": [
  {
   "cell_type": "markdown",
   "metadata": {},
   "source": [
    "# Tic Tac Toe\n",
    "\n",
    "## Project imports"
   ]
  },
  {
   "cell_type": "code",
   "execution_count": 1,
   "metadata": {},
   "outputs": [],
   "source": [
    "import ast\n",
    "import os\n",
    "import sys\n",
    "\n",
    "sys.path.append(os.path.abspath(\"..\"))\n",
    "\n",
    "import pandas as pd\n",
    "\n",
    "from game import Board\n",
    "from models import MODELS, Models\n",
    "from utils import Players"
   ]
  },
  {
   "cell_type": "markdown",
   "metadata": {},
   "source": [
    "## Best moves\n",
    "\n",
    "### Loading playable game states"
   ]
  },
  {
   "cell_type": "code",
   "execution_count": 2,
   "metadata": {},
   "outputs": [
    {
     "name": "stdout",
     "output_type": "stream",
     "text": [
      "                            state  last_player\n",
      "0  [0, -1, 1, 1, 0, -1, -1, 1, 1]            1\n",
      "1   [1, 0, 1, 0, 0, 0, -1, 0, -1]           -1\n",
      "2  [0, 0, 0, -1, 1, 1, -1, 1, -1]           -1\n",
      "3   [1, 0, 0, -1, -1, 1, 0, 0, 0]           -1\n",
      "4  [0, 1, 1, -1, -1, 0, 1, -1, 0]           -1\n"
     ]
    }
   ],
   "source": [
    "states_file = \"normal_states\"\n",
    "path = \"../data/\"\n",
    "ext = \".csv\"\n",
    "headers = [\"state\", \"last_player\"]\n",
    "\n",
    "states = pd.read_csv(path + states_file + ext)\n",
    "states[headers[0]] = states[headers[0]].apply(ast.literal_eval).apply(list)\n",
    "print(states.head())"
   ]
  },
  {
   "cell_type": "markdown",
   "metadata": {},
   "source": [
    "### Finding best moves"
   ]
  },
  {
   "cell_type": "code",
   "execution_count": 3,
   "metadata": {},
   "outputs": [
    {
     "name": "stdout",
     "output_type": "stream",
     "text": [
      "Task 4519/4520 completed                            state  last_player  target\n",
      "0  [0, -1, 1, 1, 0, -1, -1, 1, 1]            1       0\n",
      "1   [1, 0, 1, 0, 0, 0, -1, 0, -1]           -1       1\n",
      "2  [0, 0, 0, -1, 1, 1, -1, 1, -1]           -1       1\n",
      "3   [1, 0, 0, -1, -1, 1, 0, 0, 0]           -1       2\n",
      "4  [0, 1, 1, -1, -1, 0, 1, -1, 0]           -1       0\n"
     ]
    }
   ],
   "source": [
    "minimax = MODELS[Models.IMPOSSIBLE]\n",
    "targets = []\n",
    "total_tasks = len(states)\n",
    "\n",
    "for i, row in states.iterrows():\n",
    "    board = Board(flat_board=row[headers[0]])\n",
    "    player = Players.X if row[headers[1]] == Players.O.value else Players.O\n",
    "    row, col = minimax(board, player)\n",
    "    best_move = row * 3 + col\n",
    "    targets.append(best_move)\n",
    "    print(f\"\\rTask {i}/{total_tasks} completed\", end=\"\")\n",
    "\n",
    "states[\"target\"] = targets\n",
    "print(states.head())"
   ]
  },
  {
   "cell_type": "markdown",
   "metadata": {},
   "source": [
    "For reference:\n",
    "\n",
    "- Sigle loop: 6.1 seconds\n",
    "- ThreadPoolExecutor: 6.0 seconds\n",
    "- ProcessPoolExecutor: 6.8 seconds\n",
    "\n",
    "So the overhead of starting multiple processes is greater than the gain of parallel processing.\n",
    "\n",
    "Also there is not enough relevant downtime in the loop operations for the threaded operations to have any significant impact.\n"
   ]
  },
  {
   "cell_type": "markdown",
   "metadata": {},
   "source": [
    "### Saving to new csv file"
   ]
  },
  {
   "cell_type": "code",
   "execution_count": 4,
   "metadata": {},
   "outputs": [],
   "source": [
    "targets_file = \"game_state_targets\"\n",
    "states.to_csv(path + targets_file + ext, index=False)"
   ]
  }
 ],
 "metadata": {
  "kernelspec": {
   "display_name": ".venv",
   "language": "python",
   "name": "python3"
  },
  "language_info": {
   "codemirror_mode": {
    "name": "ipython",
    "version": 3
   },
   "file_extension": ".py",
   "mimetype": "text/x-python",
   "name": "python",
   "nbconvert_exporter": "python",
   "pygments_lexer": "ipython3",
   "version": "3.11.7"
  }
 },
 "nbformat": 4,
 "nbformat_minor": 2
}
